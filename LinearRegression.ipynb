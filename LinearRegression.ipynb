{
 "cells": [
  {
   "cell_type": "code",
   "execution_count": 1,
   "metadata": {},
   "outputs": [],
   "source": [
    "import pandas as pd\n",
    "import numpy as np\n",
    "import matplotlib.pyplot as plt\n",
    "import seaborn as sns"
   ]
  },
  {
   "cell_type": "code",
   "execution_count": 2,
   "metadata": {},
   "outputs": [
    {
     "data": {
      "text/html": [
       "<div>\n",
       "<style scoped>\n",
       "    .dataframe tbody tr th:only-of-type {\n",
       "        vertical-align: middle;\n",
       "    }\n",
       "\n",
       "    .dataframe tbody tr th {\n",
       "        vertical-align: top;\n",
       "    }\n",
       "\n",
       "    .dataframe thead th {\n",
       "        text-align: right;\n",
       "    }\n",
       "</style>\n",
       "<table border=\"1\" class=\"dataframe\">\n",
       "  <thead>\n",
       "    <tr style=\"text-align: right;\">\n",
       "      <th></th>\n",
       "      <th>Year</th>\n",
       "      <th>Price</th>\n",
       "      <th>WinterRain</th>\n",
       "      <th>AGST</th>\n",
       "      <th>HarvestRain</th>\n",
       "      <th>Age</th>\n",
       "      <th>FrancePop</th>\n",
       "    </tr>\n",
       "  </thead>\n",
       "  <tbody>\n",
       "    <tr>\n",
       "      <th>0</th>\n",
       "      <td>1952</td>\n",
       "      <td>7.4950</td>\n",
       "      <td>600</td>\n",
       "      <td>17.1167</td>\n",
       "      <td>160</td>\n",
       "      <td>31</td>\n",
       "      <td>43183.569</td>\n",
       "    </tr>\n",
       "    <tr>\n",
       "      <th>1</th>\n",
       "      <td>1953</td>\n",
       "      <td>8.0393</td>\n",
       "      <td>690</td>\n",
       "      <td>16.7333</td>\n",
       "      <td>80</td>\n",
       "      <td>30</td>\n",
       "      <td>43495.030</td>\n",
       "    </tr>\n",
       "    <tr>\n",
       "      <th>2</th>\n",
       "      <td>1955</td>\n",
       "      <td>7.6858</td>\n",
       "      <td>502</td>\n",
       "      <td>17.1500</td>\n",
       "      <td>130</td>\n",
       "      <td>28</td>\n",
       "      <td>44217.857</td>\n",
       "    </tr>\n",
       "    <tr>\n",
       "      <th>3</th>\n",
       "      <td>1957</td>\n",
       "      <td>6.9845</td>\n",
       "      <td>420</td>\n",
       "      <td>16.1333</td>\n",
       "      <td>110</td>\n",
       "      <td>26</td>\n",
       "      <td>45152.252</td>\n",
       "    </tr>\n",
       "    <tr>\n",
       "      <th>4</th>\n",
       "      <td>1958</td>\n",
       "      <td>6.7772</td>\n",
       "      <td>582</td>\n",
       "      <td>16.4167</td>\n",
       "      <td>187</td>\n",
       "      <td>25</td>\n",
       "      <td>45653.805</td>\n",
       "    </tr>\n",
       "  </tbody>\n",
       "</table>\n",
       "</div>"
      ],
      "text/plain": [
       "   Year   Price  WinterRain     AGST  HarvestRain  Age  FrancePop\n",
       "0  1952  7.4950         600  17.1167          160   31  43183.569\n",
       "1  1953  8.0393         690  16.7333           80   30  43495.030\n",
       "2  1955  7.6858         502  17.1500          130   28  44217.857\n",
       "3  1957  6.9845         420  16.1333          110   26  45152.252\n",
       "4  1958  6.7772         582  16.4167          187   25  45653.805"
      ]
     },
     "execution_count": 2,
     "metadata": {},
     "output_type": "execute_result"
    }
   ],
   "source": [
    "wine_df = pd.read_csv(\"./data/Wine/Wine.csv\")\n",
    "wine_df.head()"
   ]
  },
  {
   "cell_type": "code",
   "execution_count": 6,
   "metadata": {},
   "outputs": [
    {
     "data": {
      "image/png": "[encoded data removed]",
      "text/plain": [
       "<Figure size 640x480 with 1 Axes>"
      ]
     },
     "metadata": {},
     "output_type": "display_data"
    }
   ],
   "source": [
    "plt.scatter(wine_df['Price'], wine_df['Age']) \n",
    "plt.title('Price vs Age')\n",
    "plt.xlabel('Price')\n",
    "plt.ylabel('Age')\n",
    "plt.show()"
   ]
  },
  {
   "cell_type": "markdown",
   "metadata": {},
   "source": [
    "## Single Variable Linear Regression"
   ]
  },
  {
   "cell_type": "code",
   "execution_count": 8,
   "metadata": {},
   "outputs": [
    {
     "name": "stdout",
     "output_type": "stream",
     "text": [
      "                            OLS Regression Results                            \n",
      "==============================================================================\n",
      "Dep. Variable:                  Price   R-squared:                       0.435\n",
      "Model:                            OLS   Adj. R-squared:                  0.410\n",
      "Method:                 Least Squares   F-statistic:                     17.71\n",
      "Date:                Sat, 05 Oct 2024   Prob (F-statistic):           0.000335\n",
      "Time:                        14:37:37   Log-Likelihood:                -17.070\n",
      "No. Observations:                  25   AIC:                             38.14\n",
      "Df Residuals:                      23   BIC:                             40.58\n",
      "Df Model:                           1                                         \n",
      "Covariance Type:            nonrobust                                         \n",
      "==============================================================================\n",
      "                 coef    std err          t      P>|t|      [0.025      0.975]\n",
      "------------------------------------------------------------------------------\n",
      "Intercept     -3.4178      2.494     -1.371      0.184      -8.576       1.740\n",
      "AGST           0.6351      0.151      4.208      0.000       0.323       0.947\n",
      "==============================================================================\n",
      "Omnibus:                        0.986   Durbin-Watson:                   1.758\n",
      "Prob(Omnibus):                  0.611   Jarque-Bera (JB):                0.790\n",
      "Skew:                           0.055   Prob(JB):                        0.674\n",
      "Kurtosis:                       2.136   Cond. No.                         414.\n",
      "==============================================================================\n",
      "\n",
      "Notes:\n",
      "[1] Standard Errors assume that the covariance matrix of the errors is correctly specified.\n"
     ]
    }
   ],
   "source": [
    "import statsmodels.formula.api as smf\n",
    "linear_regression_model_1 = smf.ols('Price ~ AGST', data=wine_df)\n",
    "linear_regression_model_1_results = linear_regression_model_1.fit()\n",
    "print(linear_regression_model_1_results.summary())"
   ]
  },
  {
   "cell_type": "markdown",
   "metadata": {},
   "source": [
    "ols = Ordinary Least Square\n",
    "\n",
    "Summary of Significant Values:\n",
    "- AGST is significant with a p-value of 0.000.\n",
    "- The overall model is significant based on the F-statistic (p = 0.000335).\n",
    "- The intercept is not significant.\n",
    "These results suggest that AGST significantly affects the Price, but the intercept (constant term) does not."
   ]
  },
  {
   "cell_type": "markdown",
   "metadata": {},
   "source": [
    "## Multi Variable Linear Regression"
   ]
  },
  {
   "cell_type": "code",
   "execution_count": 12,
   "metadata": {},
   "outputs": [
    {
     "name": "stdout",
     "output_type": "stream",
     "text": [
      "                            OLS Regression Results                            \n",
      "==============================================================================\n",
      "Dep. Variable:                  Price   R-squared:                       0.829\n",
      "Model:                            OLS   Adj. R-squared:                  0.784\n",
      "Method:                 Least Squares   F-statistic:                     18.47\n",
      "Date:                Sat, 05 Oct 2024   Prob (F-statistic):           1.04e-06\n",
      "Time:                        15:14:43   Log-Likelihood:                -2.1043\n",
      "No. Observations:                  25   AIC:                             16.21\n",
      "Df Residuals:                      19   BIC:                             23.52\n",
      "Df Model:                           5                                         \n",
      "Covariance Type:            nonrobust                                         \n",
      "===============================================================================\n",
      "                  coef    std err          t      P>|t|      [0.025      0.975]\n",
      "-------------------------------------------------------------------------------\n",
      "Intercept      -0.4504     10.189     -0.044      0.965     -21.776      20.875\n",
      "AGST            0.6012      0.103      5.836      0.000       0.386       0.817\n",
      "HarvestRain    -0.0040      0.001     -4.523      0.000      -0.006      -0.002\n",
      "WinterRain      0.0010      0.001      1.963      0.064   -6.89e-05       0.002\n",
      "Age             0.0006      0.079      0.007      0.994      -0.165       0.166\n",
      "FrancePop   -4.953e-05      0.000     -0.297      0.770      -0.000       0.000\n",
      "==============================================================================\n",
      "Omnibus:                        1.769   Durbin-Watson:                   2.792\n",
      "Prob(Omnibus):                  0.413   Jarque-Bera (JB):                1.026\n",
      "Skew:                          -0.005   Prob(JB):                        0.599\n",
      "Kurtosis:                       2.008   Cond. No.                     8.41e+06\n",
      "==============================================================================\n",
      "\n",
      "Notes:\n",
      "[1] Standard Errors assume that the covariance matrix of the errors is correctly specified.\n",
      "[2] The condition number is large, 8.41e+06. This might indicate that there are\n",
      "strong multicollinearity or other numerical problems.\n"
     ]
    }
   ],
   "source": [
    "linear_regression_model_2 = smf.ols('Price ~ AGST + HarvestRain + WinterRain + Age + FrancePop', data=wine_df)\n",
    "linear_regression_model_2_results = linear_regression_model_2.fit()\n",
    "print(linear_regression_model_2_results.summary())"
   ]
  },
  {
   "cell_type": "code",
   "execution_count": 14,
   "metadata": {},
   "outputs": [
    {
     "data": {
      "text/html": [
       "<div>\n",
       "<style scoped>\n",
       "    .dataframe tbody tr th:only-of-type {\n",
       "        vertical-align: middle;\n",
       "    }\n",
       "\n",
       "    .dataframe tbody tr th {\n",
       "        vertical-align: top;\n",
       "    }\n",
       "\n",
       "    .dataframe thead th {\n",
       "        text-align: right;\n",
       "    }\n",
       "</style>\n",
       "<table border=\"1\" class=\"dataframe\">\n",
       "  <thead>\n",
       "    <tr style=\"text-align: right;\">\n",
       "      <th></th>\n",
       "      <th>Year</th>\n",
       "      <th>Price</th>\n",
       "      <th>WinterRain</th>\n",
       "      <th>AGST</th>\n",
       "      <th>HarvestRain</th>\n",
       "      <th>Age</th>\n",
       "      <th>FrancePop</th>\n",
       "    </tr>\n",
       "  </thead>\n",
       "  <tbody>\n",
       "    <tr>\n",
       "      <th>Year</th>\n",
       "      <td>1.000000</td>\n",
       "      <td>-0.447768</td>\n",
       "      <td>0.016970</td>\n",
       "      <td>-0.246916</td>\n",
       "      <td>0.028009</td>\n",
       "      <td>-1.000000</td>\n",
       "      <td>0.994485</td>\n",
       "    </tr>\n",
       "    <tr>\n",
       "      <th>Price</th>\n",
       "      <td>-0.447768</td>\n",
       "      <td>1.000000</td>\n",
       "      <td>0.136651</td>\n",
       "      <td>0.659563</td>\n",
       "      <td>-0.563322</td>\n",
       "      <td>0.447768</td>\n",
       "      <td>-0.466862</td>\n",
       "    </tr>\n",
       "    <tr>\n",
       "      <th>WinterRain</th>\n",
       "      <td>0.016970</td>\n",
       "      <td>0.136651</td>\n",
       "      <td>1.000000</td>\n",
       "      <td>-0.321091</td>\n",
       "      <td>-0.275441</td>\n",
       "      <td>-0.016970</td>\n",
       "      <td>-0.001622</td>\n",
       "    </tr>\n",
       "    <tr>\n",
       "      <th>AGST</th>\n",
       "      <td>-0.246916</td>\n",
       "      <td>0.659563</td>\n",
       "      <td>-0.321091</td>\n",
       "      <td>1.000000</td>\n",
       "      <td>-0.064496</td>\n",
       "      <td>0.246916</td>\n",
       "      <td>-0.259162</td>\n",
       "    </tr>\n",
       "    <tr>\n",
       "      <th>HarvestRain</th>\n",
       "      <td>0.028009</td>\n",
       "      <td>-0.563322</td>\n",
       "      <td>-0.275441</td>\n",
       "      <td>-0.064496</td>\n",
       "      <td>1.000000</td>\n",
       "      <td>-0.028009</td>\n",
       "      <td>0.041264</td>\n",
       "    </tr>\n",
       "    <tr>\n",
       "      <th>Age</th>\n",
       "      <td>-1.000000</td>\n",
       "      <td>0.447768</td>\n",
       "      <td>-0.016970</td>\n",
       "      <td>0.246916</td>\n",
       "      <td>-0.028009</td>\n",
       "      <td>1.000000</td>\n",
       "      <td>-0.994485</td>\n",
       "    </tr>\n",
       "    <tr>\n",
       "      <th>FrancePop</th>\n",
       "      <td>0.994485</td>\n",
       "      <td>-0.466862</td>\n",
       "      <td>-0.001622</td>\n",
       "      <td>-0.259162</td>\n",
       "      <td>0.041264</td>\n",
       "      <td>-0.994485</td>\n",
       "      <td>1.000000</td>\n",
       "    </tr>\n",
       "  </tbody>\n",
       "</table>\n",
       "</div>"
      ],
      "text/plain": [
       "                 Year     Price  WinterRain      AGST  HarvestRain       Age  \\\n",
       "Year         1.000000 -0.447768    0.016970 -0.246916     0.028009 -1.000000   \n",
       "Price       -0.447768  1.000000    0.136651  0.659563    -0.563322  0.447768   \n",
       "WinterRain   0.016970  0.136651    1.000000 -0.321091    -0.275441 -0.016970   \n",
       "AGST        -0.246916  0.659563   -0.321091  1.000000    -0.064496  0.246916   \n",
       "HarvestRain  0.028009 -0.563322   -0.275441 -0.064496     1.000000 -0.028009   \n",
       "Age         -1.000000  0.447768   -0.016970  0.246916    -0.028009  1.000000   \n",
       "FrancePop    0.994485 -0.466862   -0.001622 -0.259162     0.041264 -0.994485   \n",
       "\n",
       "             FrancePop  \n",
       "Year          0.994485  \n",
       "Price        -0.466862  \n",
       "WinterRain   -0.001622  \n",
       "AGST         -0.259162  \n",
       "HarvestRain   0.041264  \n",
       "Age          -0.994485  \n",
       "FrancePop     1.000000  "
      ]
     },
     "execution_count": 14,
     "metadata": {},
     "output_type": "execute_result"
    }
   ],
   "source": [
    "wine_df.corr()"
   ]
  },
  {
   "cell_type": "code",
   "execution_count": null,
   "metadata": {},
   "outputs": [],
   "source": []
  }
 ],
 "metadata": {
  "kernelspec": {
   "display_name": "base",
   "language": "python",
   "name": "python3"
  },
  "language_info": {
   "codemirror_mode": {
    "name": "ipython",
    "version": 3
   },
   "file_extension": ".py",
   "mimetype": "text/x-python",
   "name": "python",
   "nbconvert_exporter": "python",
   "pygments_lexer": "ipython3",
   "version": "3.12.4"
  }
 },
 "nbformat": 4,
 "nbformat_minor": 2
}
