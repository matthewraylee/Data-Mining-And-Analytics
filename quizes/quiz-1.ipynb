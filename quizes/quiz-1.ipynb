{
 "cells": [
  {
   "cell_type": "code",
   "execution_count": 2,
   "metadata": {},
   "outputs": [],
   "source": [
    "import pandas as pd\n",
    "import matplotlib.pyplot as plt\n",
    "import numpy as np\n",
    "import seaborn as sns\n"
   ]
  },
  {
   "cell_type": "markdown",
   "metadata": {},
   "source": [
    "################################################\n",
    "## BASICS: CALCULATIONS, FUNCTIONS, VARIABLES  ##\n",
    "################################################\n"
   ]
  },
  {
   "cell_type": "code",
   "execution_count": 3,
   "metadata": {},
   "outputs": [
    {
     "name": "stdout",
     "output_type": "stream",
     "text": [
      "9\n",
      "3.142857142857143\n",
      "2.0\n"
     ]
    }
   ],
   "source": [
    "# Calculator operations\n",
    "print(3**(6-4))\n",
    "print(22/7)\n",
    "print(16**(1/4))\n"
   ]
  },
  {
   "cell_type": "code",
   "execution_count": 4,
   "metadata": {},
   "outputs": [
    {
     "name": "stdout",
     "output_type": "stream",
     "text": [
      "False\n",
      "True\n",
      "True\n"
     ]
    }
   ],
   "source": [
    "# Logical comparisons\n",
    "print(6*9 == 63)\n",
    "print(6*9 <= 63)\n",
    "print(6*9 == 54)\n"
   ]
  },
  {
   "cell_type": "code",
   "execution_count": 5,
   "metadata": {},
   "outputs": [
    {
     "name": "stdout",
     "output_type": "stream",
     "text": [
      "False\n",
      "True\n"
     ]
    }
   ],
   "source": [
    "# AND and OR logical comparisons\n",
    "print((2 > 3) & (3 > 2))\n",
    "print((2 > 3) | (3 > 2))\n"
   ]
  },
  {
   "cell_type": "code",
   "execution_count": 6,
   "metadata": {},
   "outputs": [
    {
     "name": "stdout",
     "output_type": "stream",
     "text": [
      "1.4142135623730951\n",
      "2\n"
     ]
    }
   ],
   "source": [
    "# Other useful functions\n",
    "print(np.sqrt(2))\n",
    "print(np.abs(-2))\n"
   ]
  },
  {
   "cell_type": "code",
   "execution_count": 7,
   "metadata": {},
   "outputs": [
    {
     "name": "stdout",
     "output_type": "stream",
     "text": [
      "0.9999996829318346\n",
      "1.0\n",
      "0.36787944117144233\n",
      "0.3660323412732292\n",
      "1.0\n"
     ]
    }
   ],
   "source": [
    "print(np.sin(3.14/2))\n",
    "print(np.cos(0))\n",
    "\n",
    "print(np.exp(-1))\n",
    "print((1 - 1/100)**100)\n",
    "\n",
    "print(np.log(np.exp(1)))\n"
   ]
  },
  {
   "cell_type": "code",
   "execution_count": 8,
   "metadata": {},
   "outputs": [
    {
     "name": "stdout",
     "output_type": "stream",
     "text": [
      "8\n",
      "6\n"
     ]
    }
   ],
   "source": [
    "# Assigning values to variables\n",
    "x = 2**3\n",
    "y = 6\n",
    "\n",
    "# Displaying the output\n",
    "print(x)\n",
    "print(y)\n",
    "\n"
   ]
  },
  {
   "cell_type": "markdown",
   "metadata": {},
   "source": [
    "########################################\n",
    "## VECTORS, MATRICES, AND DATA FRAMES  ##\n",
    "########################################\n"
   ]
  },
  {
   "cell_type": "code",
   "execution_count": 9,
   "metadata": {},
   "outputs": [
    {
     "name": "stdout",
     "output_type": "stream",
     "text": [
      "5\n",
      "55\n",
      "[  1   4   9  16  25  36  49  64  81 100]\n"
     ]
    }
   ],
   "source": [
    "# Creating a vector of numbers, accessing an index, and summing all of them\n",
    "z = np.arange(1, 11)\n",
    "print(z[4])\n",
    "print(np.sum(z))\n",
    "double_z = z**2\n",
    "print(double_z)\n"
   ]
  },
  {
   "cell_type": "code",
   "execution_count": 10,
   "metadata": {},
   "outputs": [
    {
     "name": "stdout",
     "output_type": "stream",
     "text": [
      "  locations  capacities\n",
      "0     Davis          10\n",
      "1    Porter          15\n",
      "2   Harvard          20\n",
      "3   Central          15\n",
      "4   Kendall          25\n"
     ]
    }
   ],
   "source": [
    "# Creating vectors of bike rack locations and capacities\n",
    "locations = [\"Davis\", \"Porter\", \"Harvard\", \"Central\", \"Kendall\"]\n",
    "capacities = [10, 15, 20, 15, 25]\n",
    "\n",
    "# Creating a data frame\n",
    "df1 = pd.DataFrame({'locations': locations, 'capacities': capacities})\n",
    "print(df1)\n"
   ]
  },
  {
   "cell_type": "code",
   "execution_count": 11,
   "metadata": {},
   "outputs": [
    {
     "name": "stdout",
     "output_type": "stream",
     "text": [
      "  locations  capacities2\n",
      "0     Davis           15\n",
      "1    Porter           10\n",
      "2   Harvard           10\n",
      "3   Central            5\n",
      "4   Kendall            5\n"
     ]
    }
   ],
   "source": [
    "# Adding the capacities of another set of bike rack\n",
    "capacities2 = [15, 10, 10, 5, 5]\n",
    "\n",
    "# Creating another data frame\n",
    "df2 = pd.DataFrame({'locations': locations, 'capacities2': capacities2})\n",
    "print(df2)\n"
   ]
  },
  {
   "cell_type": "code",
   "execution_count": 12,
   "metadata": {},
   "outputs": [
    {
     "name": "stdout",
     "output_type": "stream",
     "text": [
      "  locations  capacities  capacities2\n",
      "0     Davis          10           15\n",
      "1    Porter          15           10\n",
      "2   Harvard          20           10\n",
      "3   Central          15            5\n",
      "4   Kendall          25            5\n"
     ]
    }
   ],
   "source": [
    "# Appending second set of capacities to those of the first data frame using column bind\n",
    "df_bikes = pd.merge(df1, df2, on='locations')\n",
    "print(df_bikes)\n"
   ]
  },
  {
   "cell_type": "code",
   "execution_count": 13,
   "metadata": {},
   "outputs": [
    {
     "name": "stdout",
     "output_type": "stream",
     "text": [
      "<class 'list'>\n",
      "<class 'list'>\n",
      "<class 'pandas.core.frame.DataFrame'>\n",
      "locations      object\n",
      "capacities      int64\n",
      "capacities2     int64\n",
      "dtype: object\n"
     ]
    }
   ],
   "source": [
    "# Checking out the class and structure of various variables\n",
    "print(type(locations))\n",
    "print(type(capacities))\n",
    "print(type(df_bikes))\n",
    "print(df_bikes.dtypes)\n"
   ]
  },
  {
   "cell_type": "code",
   "execution_count": 14,
   "metadata": {},
   "outputs": [
    {
     "name": "stdout",
     "output_type": "stream",
     "text": [
      "0      Davis\n",
      "1     Porter\n",
      "2    Harvard\n",
      "3    Central\n",
      "4    Kendall\n",
      "Name: locations, dtype: object\n"
     ]
    }
   ],
   "source": [
    "# Extracting the column from a data frame\n",
    "print(df_bikes['locations'])\n"
   ]
  },
  {
   "cell_type": "code",
   "execution_count": 15,
   "metadata": {},
   "outputs": [
    {
     "name": "stdout",
     "output_type": "stream",
     "text": [
      "       capacities  capacities2\n",
      "count    5.000000       5.0000\n",
      "mean    17.000000       9.0000\n",
      "std      5.700877       4.1833\n",
      "min     10.000000       5.0000\n",
      "25%     15.000000       5.0000\n",
      "50%     15.000000      10.0000\n",
      "75%     20.000000      10.0000\n",
      "max     25.000000      15.0000\n",
      "count     5.000000\n",
      "mean     17.000000\n",
      "std       5.700877\n",
      "min      10.000000\n",
      "25%      15.000000\n",
      "50%      15.000000\n",
      "75%      20.000000\n",
      "max      25.000000\n",
      "Name: capacities, dtype: float64\n"
     ]
    }
   ],
   "source": [
    "# Using the describe function to get summary statistics\n",
    "print(df_bikes.describe())\n",
    "print(df_bikes['capacities'].describe())\n"
   ]
  },
  {
   "cell_type": "code",
   "execution_count": 16,
   "metadata": {},
   "outputs": [
    {
     "name": "stdout",
     "output_type": "stream",
     "text": [
      "  locations  capacities  capacities2\n",
      "4   Kendall          25            5\n"
     ]
    }
   ],
   "source": [
    "# Using the subset function to extract rows of interest from a data frame\n",
    "bikesKendall = df_bikes[df_bikes['locations'] == \"Kendall\"]\n",
    "print(bikesKendall)\n"
   ]
  },
  {
   "cell_type": "code",
   "execution_count": 17,
   "metadata": {},
   "outputs": [
    {
     "name": "stdout",
     "output_type": "stream",
     "text": [
      "30\n"
     ]
    }
   ],
   "source": [
    "# Finding the total bike capacity at Kendall\n",
    "print(np.sum(bikesKendall['capacities'] + bikesKendall['capacities2']))\n"
   ]
  },
  {
   "cell_type": "markdown",
   "metadata": {},
   "source": [
    "############################\n",
    "## WORKING WITH CSV FILES  ##\n",
    "############################\n"
   ]
  },
  {
   "cell_type": "code",
   "execution_count": 18,
   "metadata": {},
   "outputs": [],
   "source": [
    "# Loading csv files using pandas\n",
    "CEOcomp = pd.read_csv(\"../data/CEOcomp.csv\")\n"
   ]
  },
  {
   "cell_type": "code",
   "execution_count": 19,
   "metadata": {},
   "outputs": [
    {
     "data": {
      "text/html": [
       "<div>\n",
       "<style scoped>\n",
       "    .dataframe tbody tr th:only-of-type {\n",
       "        vertical-align: middle;\n",
       "    }\n",
       "\n",
       "    .dataframe tbody tr th {\n",
       "        vertical-align: top;\n",
       "    }\n",
       "\n",
       "    .dataframe thead th {\n",
       "        text-align: right;\n",
       "    }\n",
       "</style>\n",
       "<table border=\"1\" class=\"dataframe\">\n",
       "  <thead>\n",
       "    <tr style=\"text-align: right;\">\n",
       "      <th></th>\n",
       "      <th>CompanyNumber</th>\n",
       "      <th>TotalCompensation</th>\n",
       "      <th>Years</th>\n",
       "      <th>ChangeStockPrice</th>\n",
       "      <th>ChangeCompanySales</th>\n",
       "      <th>MBA</th>\n",
       "    </tr>\n",
       "  </thead>\n",
       "  <tbody>\n",
       "    <tr>\n",
       "      <th>0</th>\n",
       "      <td>1</td>\n",
       "      <td>1530</td>\n",
       "      <td>7</td>\n",
       "      <td>48</td>\n",
       "      <td>89</td>\n",
       "      <td>1</td>\n",
       "    </tr>\n",
       "    <tr>\n",
       "      <th>10</th>\n",
       "      <td>11</td>\n",
       "      <td>2707</td>\n",
       "      <td>7</td>\n",
       "      <td>44</td>\n",
       "      <td>26</td>\n",
       "      <td>1</td>\n",
       "    </tr>\n",
       "    <tr>\n",
       "      <th>15</th>\n",
       "      <td>16</td>\n",
       "      <td>898</td>\n",
       "      <td>7</td>\n",
       "      <td>-21</td>\n",
       "      <td>-20</td>\n",
       "      <td>1</td>\n",
       "    </tr>\n",
       "    <tr>\n",
       "      <th>22</th>\n",
       "      <td>23</td>\n",
       "      <td>1550</td>\n",
       "      <td>7</td>\n",
       "      <td>49</td>\n",
       "      <td>-4</td>\n",
       "      <td>1</td>\n",
       "    </tr>\n",
       "    <tr>\n",
       "      <th>24</th>\n",
       "      <td>25</td>\n",
       "      <td>1462</td>\n",
       "      <td>7</td>\n",
       "      <td>46</td>\n",
       "      <td>10</td>\n",
       "      <td>1</td>\n",
       "    </tr>\n",
       "    <tr>\n",
       "      <th>25</th>\n",
       "      <td>26</td>\n",
       "      <td>1456</td>\n",
       "      <td>7</td>\n",
       "      <td>46</td>\n",
       "      <td>-5</td>\n",
       "      <td>1</td>\n",
       "    </tr>\n",
       "    <tr>\n",
       "      <th>28</th>\n",
       "      <td>29</td>\n",
       "      <td>2021</td>\n",
       "      <td>7</td>\n",
       "      <td>48</td>\n",
       "      <td>72</td>\n",
       "      <td>1</td>\n",
       "    </tr>\n",
       "    <tr>\n",
       "      <th>32</th>\n",
       "      <td>33</td>\n",
       "      <td>1315</td>\n",
       "      <td>7</td>\n",
       "      <td>42</td>\n",
       "      <td>-7</td>\n",
       "      <td>0</td>\n",
       "    </tr>\n",
       "    <tr>\n",
       "      <th>40</th>\n",
       "      <td>41</td>\n",
       "      <td>2253</td>\n",
       "      <td>7</td>\n",
       "      <td>46</td>\n",
       "      <td>104</td>\n",
       "      <td>1</td>\n",
       "    </tr>\n",
       "  </tbody>\n",
       "</table>\n",
       "</div>"
      ],
      "text/plain": [
       "    CompanyNumber  TotalCompensation  Years  ChangeStockPrice  \\\n",
       "0               1               1530      7                48   \n",
       "10             11               2707      7                44   \n",
       "15             16                898      7               -21   \n",
       "22             23               1550      7                49   \n",
       "24             25               1462      7                46   \n",
       "25             26               1456      7                46   \n",
       "28             29               2021      7                48   \n",
       "32             33               1315      7                42   \n",
       "40             41               2253      7                46   \n",
       "\n",
       "    ChangeCompanySales  MBA  \n",
       "0                   89    1  \n",
       "10                  26    1  \n",
       "15                 -20    1  \n",
       "22                  -4    1  \n",
       "24                  10    1  \n",
       "25                  -5    1  \n",
       "28                  72    1  \n",
       "32                  -7    0  \n",
       "40                 104    1  "
      ]
     },
     "execution_count": 19,
     "metadata": {},
     "output_type": "execute_result"
    }
   ],
   "source": [
    "CEOcomp.head()\n",
    "CEOcomp[CEOcomp['Years'] == 7]"
   ]
  },
  {
   "cell_type": "markdown",
   "metadata": {},
   "source": [
    "####################################################\n",
    "## BASIC STATISTICS, PLOTTING, AND SUMMARY TABLES ##\n",
    "####################################################\n"
   ]
  },
  {
   "cell_type": "code",
   "execution_count": 20,
   "metadata": {},
   "outputs": [
    {
     "data": {
      "image/png": "[encoded data removed]",
      "text/plain": [
       "<Figure size 640x480 with 1 Axes>"
      ]
     },
     "metadata": {},
     "output_type": "display_data"
    }
   ],
   "source": [
    "# Plotting compensation versus years of experience\n",
    "sns.scatterplot(data=CEOcomp, x='Years', y='TotalCompensation')\n",
    "plt.show()\n"
   ]
  },
  {
   "cell_type": "code",
   "execution_count": 21,
   "metadata": {},
   "outputs": [
    {
     "data": {
      "image/png": "[encoded data removed]",
      "text/plain": [
       "<Figure size 640x480 with 1 Axes>"
      ]
     },
     "metadata": {},
     "output_type": "display_data"
    }
   ],
   "source": [
    "# Plotting with a title, x- and y-axis labels\n",
    "sns.scatterplot(data=CEOcomp, x='Years', y='TotalCompensation')\n",
    "plt.title('Total Compensation by Year')\n",
    "plt.xlabel('Years of Experience')\n",
    "plt.ylabel('Total Compensation (thousand USD)')\n",
    "plt.show()\n"
   ]
  },
  {
   "cell_type": "code",
   "execution_count": 22,
   "metadata": {},
   "outputs": [
    {
     "data": {
      "text/html": [
       "<div>\n",
       "<style scoped>\n",
       "    .dataframe tbody tr th:only-of-type {\n",
       "        vertical-align: middle;\n",
       "    }\n",
       "\n",
       "    .dataframe tbody tr th {\n",
       "        vertical-align: top;\n",
       "    }\n",
       "\n",
       "    .dataframe thead th {\n",
       "        text-align: right;\n",
       "    }\n",
       "</style>\n",
       "<table border=\"1\" class=\"dataframe\">\n",
       "  <thead>\n",
       "    <tr style=\"text-align: right;\">\n",
       "      <th></th>\n",
       "      <th>CompanyNumber</th>\n",
       "      <th>TotalCompensation</th>\n",
       "      <th>Years</th>\n",
       "      <th>ChangeStockPrice</th>\n",
       "      <th>ChangeCompanySales</th>\n",
       "      <th>MBA</th>\n",
       "    </tr>\n",
       "  </thead>\n",
       "  <tbody>\n",
       "    <tr>\n",
       "      <th>0</th>\n",
       "      <td>1</td>\n",
       "      <td>1530</td>\n",
       "      <td>7</td>\n",
       "      <td>48</td>\n",
       "      <td>89</td>\n",
       "      <td>1</td>\n",
       "    </tr>\n",
       "    <tr>\n",
       "      <th>1</th>\n",
       "      <td>2</td>\n",
       "      <td>1117</td>\n",
       "      <td>6</td>\n",
       "      <td>35</td>\n",
       "      <td>19</td>\n",
       "      <td>1</td>\n",
       "    </tr>\n",
       "    <tr>\n",
       "      <th>2</th>\n",
       "      <td>3</td>\n",
       "      <td>602</td>\n",
       "      <td>3</td>\n",
       "      <td>9</td>\n",
       "      <td>24</td>\n",
       "      <td>0</td>\n",
       "    </tr>\n",
       "    <tr>\n",
       "      <th>3</th>\n",
       "      <td>4</td>\n",
       "      <td>1170</td>\n",
       "      <td>6</td>\n",
       "      <td>37</td>\n",
       "      <td>8</td>\n",
       "      <td>1</td>\n",
       "    </tr>\n",
       "    <tr>\n",
       "      <th>4</th>\n",
       "      <td>5</td>\n",
       "      <td>1086</td>\n",
       "      <td>6</td>\n",
       "      <td>34</td>\n",
       "      <td>28</td>\n",
       "      <td>0</td>\n",
       "    </tr>\n",
       "  </tbody>\n",
       "</table>\n",
       "</div>"
      ],
      "text/plain": [
       "   CompanyNumber  TotalCompensation  Years  ChangeStockPrice  \\\n",
       "0              1               1530      7                48   \n",
       "1              2               1117      6                35   \n",
       "2              3                602      3                 9   \n",
       "3              4               1170      6                37   \n",
       "4              5               1086      6                34   \n",
       "\n",
       "   ChangeCompanySales  MBA  \n",
       "0                  89    1  \n",
       "1                  19    1  \n",
       "2                  24    0  \n",
       "3                   8    1  \n",
       "4                  28    0  "
      ]
     },
     "execution_count": 22,
     "metadata": {},
     "output_type": "execute_result"
    }
   ],
   "source": [
    "CEOcomp.head()"
   ]
  },
  {
   "cell_type": "code",
   "execution_count": 23,
   "metadata": {},
   "outputs": [
    {
     "name": "stdout",
     "output_type": "stream",
     "text": [
      "MBA\n",
      "0     723.294118\n",
      "1    1588.212121\n",
      "Name: TotalCompensation, dtype: float64\n"
     ]
    }
   ],
   "source": [
    "# Creating a table to summarize the data\n",
    "print(CEOcomp.groupby('MBA')['TotalCompensation'].mean())\n"
   ]
  },
  {
   "cell_type": "code",
   "execution_count": 24,
   "metadata": {},
   "outputs": [
    {
     "name": "stdout",
     "output_type": "stream",
     "text": [
      "MBA    0  1\n",
      "Years      \n",
      "0      3  2\n",
      "1      1  0\n",
      "2      3  1\n",
      "3      2  0\n",
      "4      2  3\n",
      "5      1  5\n",
      "6      2  3\n",
      "7      1  8\n",
      "8      1  6\n",
      "9      0  2\n",
      "10     1  1\n",
      "11     0  2\n"
     ]
    }
   ],
   "source": [
    "# Creating a table to look at counts\n",
    "print(pd.crosstab(CEOcomp['Years'], CEOcomp['MBA']))\n"
   ]
  }
 ],
 "metadata": {
  "kernelspec": {
   "display_name": "bond37",
   "language": "python",
   "name": "python3"
  },
  "language_info": {
   "codemirror_mode": {
    "name": "ipython",
    "version": 3
   },
   "file_extension": ".py",
   "mimetype": "text/x-python",
   "name": "python",
   "nbconvert_exporter": "python",
   "pygments_lexer": "ipython3",
   "version": "3.12.4"
  },
  "orig_nbformat": 4
 },
 "nbformat": 4,
 "nbformat_minor": 2
}
